{
 "cells": [
  {
   "cell_type": "code",
   "execution_count": 71,
   "metadata": {},
   "outputs": [],
   "source": [
    "import pandas as pd\n",
    "from sklearn.feature_extraction.text import CountVectorizer\n",
    "from sklearn.naive_bayes import MultinomialNB\n",
    "\n",
    "# Создаем обучающую выборку\n",
    "train_data = [\n",
    "    (\"Купить огнетушитель\", \"покупка огнетушителей\"),\n",
    "    (\"Какой огнетушитель нужен для кальянной?\", \"вопрос по огнетушителю\"),\n",
    "    (\"Какой лучший огнетушитель для дома?\", \"вопрос по огнетушителю\"),\n",
    "    (\"Огнетушитель для машины\", \"покупка огнетушителей\"),\n",
    "    (\"Как проверить огнетушитель?\", \"вопрос по огнетушителю\"),\n",
    "    (\"Огнетушитель для офиса\", \"покупка огнетушителей\"),\n",
    "]\n",
    "\n",
    "# Создаем DataFrame из обучающей выборки\n",
    "train_df = pd.DataFrame(train_data, columns=[\"text\", \"category\"])\n",
    "\n",
    "# Создаем векторизатор для преобразования текстовых данных в числовые векторы\n",
    "vectorizer = CountVectorizer()\n",
    "\n",
    "# Преобразуем текстовые данные в числовые векторы\n",
    "X_train = vectorizer.fit_transform(train_df[\"text\"])\n",
    "y_train = train_df[\"category\"]\n",
    "\n",
    "# Создаем модель классификатора на основе наивного Байесовского классификатора\n",
    "clf = MultinomialNB()\n",
    "\n",
    "# Обучаем модель на обучающей выборке\n",
    "clf.fit(X_train, y_train)\n",
    "\n",
    "# Пример классификации нового сообщения\n",
    "\n",
    "new_message = \"Нужно ли мне покупать огнетушитель для кухни?\"\n",
    "X_new = vectorizer.transform([new_message])\n",
    "predicted_category = clf.predict(X_new)\n",
    "print(f\"Категория: {predicted_category[0]}\")"
   ]
  }
 ],
 "metadata": {
  "kernelspec": {
   "display_name": "Python 3",
   "language": "python",
   "name": "python3"
  },
  "language_info": {
   "codemirror_mode": {
    "name": "ipython",
    "version": 3
   },
   "file_extension": ".py",
   "mimetype": "text/x-python",
   "name": "python",
   "nbconvert_exporter": "python",
   "pygments_lexer": "ipython3",
   "version": "3.11.1"
  },
  "orig_nbformat": 4,
  "vscode": {
   "interpreter": {
    "hash": "de47f5c92c0ee6f12a59a5613ac5feff6aab19ddff207ba0b3964cced08c4ccc"
   }
  }
 },
 "nbformat": 4,
 "nbformat_minor": 2
}
